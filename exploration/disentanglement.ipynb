{
 "cells": [
  {
   "cell_type": "markdown",
   "id": "857e4745",
   "metadata": {
    "lines_to_next_cell": 2
   },
   "source": [
    "# Latent Space Disentanglement\n",
    "Find the most relevant axes of the latent space for CXR-Age predictions"
   ]
  },
  {
   "cell_type": "code",
   "execution_count": null,
   "id": "0e9b62fe",
   "metadata": {
    "lines_to_next_cell": 2
   },
   "outputs": [],
   "source": [
    "# silence warnings\n",
    "import warnings\n",
    "warnings.filterwarnings(\"ignore\")\n",
    "\n",
    "# allow cxrage import\n",
    "import sys\n",
    "sys.path.append('../assets/scripts')\n",
    "\n",
    "from cxrage import *\n",
    "import torch.nn as nn\n",
    "import torch\n",
    "import numpy as np\n",
    "from PIL import Image\n",
    "import matplotlib.pyplot as plt\n",
    "from cheff import CheffAEModel\n",
    "from torchvision.transforms.functional import to_pil_image, to_tensor\n",
    "import torchvision.transforms as transforms"
   ]
  },
  {
   "cell_type": "code",
   "execution_count": null,
   "id": "7016810b",
   "metadata": {
    "lines_to_next_cell": 3
   },
   "outputs": [],
   "source": [
    "device = 'cuda'\n",
    "\n",
    "# load LDM\n",
    "sdm_path = '../../assets/models/cheff_diff_uncond.pt'\n",
    "ae_path = '../../assets/models/cheff_autoencoder.pt'\n",
    "cheff_ae = CheffAEModel(model_path=ae_path, device=device)\n",
    "\n",
    "# load cxr-age\n",
    "cxr_age = load_model(path='../../assets/')\n",
    "cxr_age.model.to(device)\n",
    "\n",
    "# load, encode sample images\n",
    "sample_imgs = [Image.open(f'../../assets/cxrs/nih/ae_nih{i}.png') for i in range(1, 6)]\n",
    "with torch.no_grad():\n",
    "    lreps = [cheff_ae.encode(to_tensor(img).unsqueeze(0).to(device)) for img in sample_imgs]"
   ]
  }
 ],
 "metadata": {
  "kernelspec": {
   "display_name": "Python 3",
   "language": "python",
   "name": "python3"
  },
  "language_info": {
   "codemirror_mode": {
    "name": "ipython"
   },
   "file_extension": ".py",
   "mimetype": "text/x-python",
   "name": "python",
   "nbconvert_exporter": "python",
   "pygments_lexer": "ipython3"
  }
 },
 "nbformat": 4,
 "nbformat_minor": 5
}
