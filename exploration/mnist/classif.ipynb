{
 "cells": [
  {
   "cell_type": "code",
   "execution_count": null,
   "id": "7dffab4e",
   "metadata": {
    "lines_to_next_cell": 2
   },
   "outputs": [],
   "source": [
    "import torch\n",
    "import yaml\n",
    "from vae import VAE\n",
    "from mnist import Network\n",
    "from PIL import Image\n",
    "from torchvision import transforms\n",
    "import matplotlib.pyplot as plt\n",
    "import torch.nn as nn"
   ]
  },
  {
   "cell_type": "code",
   "execution_count": null,
   "id": "511ace0e",
   "metadata": {
    "lines_to_next_cell": 2
   },
   "outputs": [],
   "source": [
    "device = 'cpu'\n",
    "\n",
    "# load mnist vae\n",
    "config_path = 'VAE-Pytorch/config/vae_kl.yaml'\n",
    "with open (config_path, 'r') as file:\n",
    "        config = yaml.safe_load(file)\n",
    "\n",
    "vae = VAE(config['model_params'])\n",
    "vae.to(device)\n",
    "pth_path = 'VAE-Pytorch/vae_kl/best_vae_kl_ckpt.pth'\n",
    "vae.load_state_dict(torch.load(pth_path, map_location=device))\n",
    "\n",
    "# load mnist classifier\n",
    "classifier = Network()\n",
    "classifier.to(device)\n",
    "pth_path = 'hand-written-digit-classification/MNIST_model.pth'\n",
    "classifier.load_state_dict(torch.load(pth_path, map_location=device))\n",
    "classifier.eval()"
   ]
  },
  {
   "cell_type": "code",
   "execution_count": null,
   "id": "085b6a3b",
   "metadata": {},
   "outputs": [],
   "source": [
    "path = 'VAE-Pytorch/data/train/images/4/20712.png'\n",
    "img = Image.open(path).convert('L')\n",
    "\n",
    "transform = transforms.Compose([\n",
    "    transforms.Resize((28, 28)),\n",
    "    transforms.ToTensor()\n",
    "])\n",
    "\n",
    "img = transform(img).unsqueeze(0).to(device)\n",
    "out = vae(img)\n",
    "mu = out['mean']\n",
    "std = torch.exp(0.5 * out['log_variance'])\n",
    "z = mu + std * torch.randn_like(std)"
   ]
  },
  {
   "cell_type": "code",
   "execution_count": null,
   "id": "c38258b3",
   "metadata": {},
   "outputs": [],
   "source": [
    "def loss_fn(sm_output):\n",
    "    return -sm_output[0, 9]"
   ]
  },
  {
   "cell_type": "code",
   "execution_count": null,
   "id": "d071e507",
   "metadata": {
    "lines_to_next_cell": 2
   },
   "outputs": [],
   "source": [
    "img_temp = Image.open(path).convert('L')\n",
    "img_temp = transform(img_temp).unsqueeze(0).to(device)\n",
    "# predict on original image\n",
    "pred = torch.exp(classifier(img_temp))\n",
    "print(pred)\n",
    "# predict on generated image\n",
    "img_orig = vae.generate(z)\n",
    "pred = torch.exp(classifier(img_orig))\n",
    "print(pred)\n",
    "\n",
    "# plot original and generated images\n",
    "fig, ax = plt.subplots(1, 2)\n",
    "ax[0].imshow(img_temp.squeeze().detach().cpu().numpy(), cmap='gray')\n",
    "ax[1].imshow(img_orig.squeeze().detach().cpu().numpy(), cmap='gray')"
   ]
  },
  {
   "cell_type": "code",
   "execution_count": null,
   "id": "91eaeffc",
   "metadata": {
    "lines_to_next_cell": 2
   },
   "outputs": [],
   "source": [
    "# optimize over latent space rep (z) for class 9\n",
    "epochs = 75\n",
    "lr = 0.025\n",
    "imgs = []\n",
    "\n",
    "mu_par = nn.Parameter(mu.clone())\n",
    "mu_opt = torch.optim.AdamW([mu_par], lr=lr)\n",
    "\n",
    "for epoch in range(epochs):\n",
    "    mu_opt.zero_grad()\n",
    "    img = vae.generate(mu_par)\n",
    "    pred = classifier(img)\n",
    "    loss = loss_fn(pred)\n",
    "    loss.backward()\n",
    "    mu_opt.step()\n",
    "\n",
    "    imgs.append(img.detach().cpu())\n",
    "    print(f'{epoch} {loss.item()}')"
   ]
  },
  {
   "cell_type": "code",
   "execution_count": null,
   "id": "9892e8c5",
   "metadata": {
    "lines_to_next_cell": 2
   },
   "outputs": [],
   "source": [
    "print(loss.item())"
   ]
  },
  {
   "cell_type": "code",
   "execution_count": null,
   "id": "867c229a",
   "metadata": {
    "lines_to_next_cell": 2
   },
   "outputs": [],
   "source": [
    "# output every image in streams/1\n",
    "for i, img in enumerate(imgs):\n",
    "    img = img.squeeze().numpy()\n",
    "    img = (img + 1) / 2 * 255\n",
    "    img = Image.fromarray((img).astype('uint8'))\n",
    "    img.save(f'streams/1/{i}.png')"
   ]
  },
  {
   "cell_type": "code",
   "execution_count": null,
   "id": "e1ab2d6a",
   "metadata": {
    "lines_to_next_cell": 2
   },
   "outputs": [],
   "source": [
    "# plot images\n",
    "fig, axes = plt.subplots(1, len(imgs), figsize=(20, 2))\n",
    "for i, ax in enumerate(axes):\n",
    "    ax.imshow(imgs[i].squeeze().numpy(), cmap='gray')\n",
    "    ax.set_title(f'{torch.exp(classifier(imgs[i])[0, 9]).item():.2f}')\n",
    "plt.savefig('runitup.png')"
   ]
  },
  {
   "cell_type": "code",
   "execution_count": null,
   "id": "095f4eb4",
   "metadata": {
    "lines_to_next_cell": 2
   },
   "outputs": [],
   "source": [
    "# plot animation of images superimposed with prediction probability of class 9\n",
    "import matplotlib.animation as animation\n",
    "from matplotlib import rc\n",
    "\n",
    "fig, ax = plt.subplots()\n",
    "ims = []\n",
    "for i in range(len(imgs)):\n",
    "    im = ax.imshow(imgs[i].squeeze().numpy(), cmap='gray')\n",
    "    text = ax.text(0.2, 1.4, f'{torch.exp(classifier(imgs[i])[0, 9]).item():.2f}', color='red', fontsize=16)\n",
    "    ims.append([im, text])\n",
    "\n",
    "ani = animation.ArtistAnimation(fig, ims, interval=40, blit=True, repeat_delay=1000)\n",
    "rc('animation', html='jshtml')\n",
    "ani.save('runitup.gif', writer='imagemagick')"
   ]
  },
  {
   "cell_type": "code",
   "execution_count": null,
   "id": "b06884fb",
   "metadata": {
    "lines_to_next_cell": 2
   },
   "outputs": [],
   "source": []
  }
 ],
 "metadata": {
  "kernelspec": {
   "display_name": "Python 3",
   "language": "python",
   "name": "python3"
  },
  "language_info": {
   "codemirror_mode": {
    "name": "ipython"
   },
   "file_extension": ".py",
   "mimetype": "text/x-python",
   "name": "python",
   "nbconvert_exporter": "python",
   "pygments_lexer": "ipython3"
  }
 },
 "nbformat": 4,
 "nbformat_minor": 5
}
