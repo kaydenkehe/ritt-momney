{
 "cells": [
  {
   "cell_type": "code",
   "execution_count": null,
   "id": "7f1f97ab",
   "metadata": {
    "lines_to_next_cell": 2
   },
   "outputs": [],
   "source": [
    "import torch\n",
    "import yaml\n",
    "from vae import VAE\n",
    "from PIL import Image\n",
    "from torchvision import transforms\n",
    "import matplotlib.pyplot as plt"
   ]
  },
  {
   "cell_type": "code",
   "execution_count": null,
   "id": "0e3916e1",
   "metadata": {
    "lines_to_next_cell": 2
   },
   "outputs": [],
   "source": [
    "device = 'cpu'\n",
    "\n",
    "# load mnist vae\n",
    "config_path = 'VAE-Pytorch/config/vae_kl.yaml'\n",
    "with open (config_path, 'r') as file:\n",
    "        config = yaml.safe_load(file)\n",
    "\n",
    "vae = VAE(config['model_params'])\n",
    "vae.to(device)\n",
    "pth_path = 'VAE-Pytorch/vae_kl/best_vae_kl_ckpt.pth'\n",
    "vae.load_state_dict(torch.load(pth_path, map_location=device))"
   ]
  },
  {
   "cell_type": "code",
   "execution_count": null,
   "id": "8fe3ea29",
   "metadata": {
    "lines_to_next_cell": 2
   },
   "outputs": [],
   "source": [
    "# test on mnist image\n",
    "path1 = 'VAE-Pytorch/data/train/images/8/6545.png'\n",
    "path2 = 'VAE-Pytorch/data/train/images/9/6167.png'\n",
    "img1 = Image.open(path1).convert('L')\n",
    "img2 = Image.open(path2).convert('L')\n",
    "\n",
    "transform = transforms.Compose([\n",
    "    transforms.Resize((28, 28)),\n",
    "    transforms.ToTensor()\n",
    "])\n",
    "\n",
    "img1 = transform(img1).unsqueeze(0).to(device)\n",
    "img2 = transform(img2).unsqueeze(0).to(device)\n",
    "out1 = vae(img1)\n",
    "out2 = vae(img2)\n",
    "\n",
    "mu1 = out1['mean']\n",
    "std1 = torch.exp(0.5 * out1['log_variance'])\n",
    "z1 = mu1 + std1 * torch.randn_like(std1)\n",
    "mu2 = out2['mean']\n",
    "std2 = torch.exp(0.5 * out2['log_variance'])\n",
    "z2 = mu2 + std2 * torch.randn_like(std2)\n",
    "\n",
    "# inteprolate between z1 and z2\n",
    "interps = torch.stack([z1 + (z2 - z1) * i / 10 for i in range(11)])\n",
    "gen_imgs = [vae.generate(interp) for interp in interps]\n",
    "\n",
    "# interpolate between mu1 and mu2, and std1 and std2\n",
    "interps_mu = torch.stack([mu1 + (mu2 - mu1) * i / 10 for i in range(11)])\n",
    "interps_std = torch.stack([std1 + (std2 - std1) * i / 10 for i in range(11)])\n",
    "interps_z =  [interps_mu[i] + interps_std[i] * torch.randn_like(interps_std[i]) for i in range(11)]\n",
    "gen_imgs_z = [vae.generate(interp) for interp in interps_z]\n",
    "\n",
    "\n",
    "# interpolate between mu1 and mu2 first, then std1 and std2\n",
    "interps_z21 = torch.stack([interps_mu[i] + std1 * torch.randn_like(std1) for i in range(11)])\n",
    "interps_z22 = torch.stack([mu2 + interps_std[i] * torch.randn_like(interps_std[i]) for i in range(11)])\n",
    "interps_z2 = torch.cat((interps_z21, interps_z22), dim=0)\n",
    "gen_imgs_z2 = [vae.generate(interp) for interp in interps_z2]\n",
    "\n",
    "# interpolate only mu1 and mu2, including no std\n",
    "interps_z3 = torch.stack([mu1 + (mu2 - mu1) * i / 10 for i in range(11)])\n",
    "gen_imgs_z3 = [vae.generate(interp) for interp in interps_z3]\n",
    "\n",
    "# inteprolate mu1 and mu2 with constant std=10\n",
    "interps_z4 = torch.stack([mu1 + (mu2 - mu1) * i / 10 for i in range(11)])\n",
    "std4 = 0.5 * torch.ones_like(std1)\n",
    "interps_z4 = [interps_z4[i] + std4 * torch.randn_like(std4) for i in range(11)]\n",
    "gen_imgs_z4 = [vae.generate(interp) for interp in interps_z4]"
   ]
  },
  {
   "cell_type": "code",
   "execution_count": null,
   "id": "64726bb6",
   "metadata": {
    "lines_to_next_cell": 2
   },
   "outputs": [],
   "source": [
    "# plot gen_imgs\n",
    "fig, axes = plt.subplots(1, 11, figsize=(20, 2))\n",
    "for i, ax in enumerate(axes):\n",
    "    ax.imshow(gen_imgs[i].squeeze().detach().cpu().numpy(), cmap='gray')\n",
    "    ax.axis('off')\n",
    "plt.show()"
   ]
  },
  {
   "cell_type": "code",
   "execution_count": null,
   "id": "01bd6372",
   "metadata": {
    "lines_to_next_cell": 2
   },
   "outputs": [],
   "source": [
    "# plot gen_imgs_z\n",
    "fig, axes = plt.subplots(1, 11, figsize=(20, 2))\n",
    "for i, ax in enumerate(axes):\n",
    "    ax.imshow(gen_imgs_z[i].squeeze().detach().cpu().numpy(), cmap='gray')\n",
    "    ax.axis('off')\n",
    "plt.show()"
   ]
  },
  {
   "cell_type": "code",
   "execution_count": null,
   "id": "e7a6cece",
   "metadata": {
    "lines_to_next_cell": 2
   },
   "outputs": [],
   "source": [
    "# plot gen_imgs_z2\n",
    "fig, axes = plt.subplots(2, 11, figsize=(20, 4))\n",
    "for i, ax in enumerate(axes[0]):\n",
    "    ax.imshow(gen_imgs_z2[i].squeeze().detach().cpu().numpy(), cmap='gray')\n",
    "    ax.axis('off')\n",
    "for i, ax in enumerate(axes[1]):\n",
    "    ax.imshow(gen_imgs_z2[i+11].squeeze().detach().cpu().numpy(), cmap='gray')\n",
    "    ax.axis('off')\n",
    "plt.show()"
   ]
  },
  {
   "cell_type": "code",
   "execution_count": null,
   "id": "65d0bcda",
   "metadata": {
    "lines_to_next_cell": 2
   },
   "outputs": [],
   "source": [
    "# plot gen_imgs_z3\n",
    "fig, axes = plt.subplots(1, 11, figsize=(20, 2))\n",
    "for i, ax in enumerate(axes):\n",
    "    ax.imshow(gen_imgs_z3[i].squeeze().detach().cpu().numpy(), cmap='gray')\n",
    "    ax.axis('off')\n",
    "plt.show()"
   ]
  },
  {
   "cell_type": "code",
   "execution_count": null,
   "id": "4900c935",
   "metadata": {
    "lines_to_next_cell": 2
   },
   "outputs": [],
   "source": [
    "# plot gen_imgs_z4\n",
    "fig, axes = plt.subplots(1, 11, figsize=(20, 2))\n",
    "for i, ax in enumerate(axes):\n",
    "    ax.imshow(gen_imgs_z4[i].squeeze().detach().cpu().numpy(), cmap='gray')\n",
    "    ax.axis('off')\n",
    "plt.show()"
   ]
  },
  {
   "cell_type": "code",
   "execution_count": null,
   "id": "cfe1b7fe",
   "metadata": {
    "lines_to_next_cell": 3
   },
   "outputs": [],
   "source": []
  }
 ],
 "metadata": {
  "kernelspec": {
   "display_name": "Python 3",
   "language": "python",
   "name": "python3"
  },
  "language_info": {
   "codemirror_mode": {
    "name": "ipython"
   },
   "file_extension": ".py",
   "mimetype": "text/x-python",
   "name": "python",
   "nbconvert_exporter": "python",
   "pygments_lexer": "ipython3"
  }
 },
 "nbformat": 4,
 "nbformat_minor": 5
}
