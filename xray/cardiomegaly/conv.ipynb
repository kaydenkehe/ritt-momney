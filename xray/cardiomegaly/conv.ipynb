{
 "cells": [
  {
   "cell_type": "code",
   "execution_count": 5,
   "metadata": {},
   "outputs": [],
   "source": [
    "import tf2onnx\n",
    "import onnx2pytorch\n",
    "import tensorflow as tf\n",
    "import numpy as np\n",
    "import torch\n",
    "import onnx\n",
    "from onnx2pytorch import ConvertModel"
   ]
  },
  {
   "cell_type": "code",
   "execution_count": 6,
   "metadata": {},
   "outputs": [
    {
     "name": "stderr",
     "output_type": "stream",
     "text": [
      "2024-11-03 14:31:50.539863: I tensorflow/core/grappler/devices.cc:75] Number of eligible GPUs (core count >= 8, compute capability >= 0.0): 0 (Note: TensorFlow was not compiled with CUDA or ROCm support)\n",
      "2024-11-03 14:31:50.540001: I tensorflow/core/grappler/clusters/single_machine.cc:358] Starting new session\n",
      "2024-11-03 14:31:50.664388: I tensorflow/core/grappler/devices.cc:75] Number of eligible GPUs (core count >= 8, compute capability >= 0.0): 0 (Note: TensorFlow was not compiled with CUDA or ROCm support)\n",
      "2024-11-03 14:31:50.664522: I tensorflow/core/grappler/clusters/single_machine.cc:358] Starting new session\n",
      "/home/kayden/miniconda3/envs/nn/lib/python3.9/site-packages/onnx2pytorch/convert/layer.py:30: UserWarning: The given NumPy array is not writable, and PyTorch does not support non-writable tensors. This means writing to this tensor will result in undefined behavior. You may want to copy the array to protect its data or make it writable before converting it to a tensor. This type of warning will be suppressed for the rest of this program. (Triggered internally at ../torch/csrc/utils/tensor_numpy.cpp:206.)\n",
      "  layer.weight.data = torch.from_numpy(numpy_helper.to_array(weight))\n"
     ]
    }
   ],
   "source": [
    "\n",
    "# Load your TensorFlow model\n",
    "model = tf.keras.models.load_model('model.h5')\n",
    "\n",
    "# Convert TensorFlow model to ONNX format\n",
    "onnx_model, _ = tf2onnx.convert.from_keras(model)  # Extract only the model part\n",
    "\n",
    "# Save the ONNX model (optional, in case you want to inspect or use it directly)\n",
    "onnx.save(onnx_model, 'model.onnx')\n",
    "\n",
    "# Convert the ONNX model to PyTorch\n",
    "pytorch_model = ConvertModel(onnx_model)\n",
    "\n",
    "# Save the PyTorch model\n",
    "torch.save(pytorch_model.state_dict(), 'model.pth')"
   ]
  }
 ],
 "metadata": {
  "kernelspec": {
   "display_name": "nn",
   "language": "python",
   "name": "python3"
  },
  "language_info": {
   "codemirror_mode": {
    "name": "ipython",
    "version": 3
   },
   "file_extension": ".py",
   "mimetype": "text/x-python",
   "name": "python",
   "nbconvert_exporter": "python",
   "pygments_lexer": "ipython3",
   "version": "3.9.18"
  }
 },
 "nbformat": 4,
 "nbformat_minor": 2
}
